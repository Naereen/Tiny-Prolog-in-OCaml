{
 "cells": [
  {
   "cell_type": "markdown",
   "metadata": {
    "toc": "true"
   },
   "source": [
    "# Table of Contents\n",
    " <p><div class=\"lev1 toc-item\"><a href=\"#Example-of-building,-and-using-Tiny-Prolog-in-OCaml\" data-toc-modified-id=\"Example-of-building,-and-using-Tiny-Prolog-in-OCaml-1\"><span class=\"toc-item-num\">1&nbsp;&nbsp;</span>Example of building, and using <a href=\"https://github.com/Naereen/Tiny-Prolog-in-OCaml/\" target=\"_blank\">Tiny-Prolog-in-OCaml</a></a></div><div class=\"lev2 toc-item\"><a href=\"#Building-prolog\" data-toc-modified-id=\"Building-prolog-11\"><span class=\"toc-item-num\">1.1&nbsp;&nbsp;</span>Building <code>prolog</code></a></div><div class=\"lev2 toc-item\"><a href=\"#Examples\" data-toc-modified-id=\"Examples-12\"><span class=\"toc-item-num\">1.2&nbsp;&nbsp;</span>Examples</a></div><div class=\"lev2 toc-item\"><a href=\"#First-example\" data-toc-modified-id=\"First-example-13\"><span class=\"toc-item-num\">1.3&nbsp;&nbsp;</span>First example</a></div><div class=\"lev2 toc-item\"><a href=\"#Second-example\" data-toc-modified-id=\"Second-example-14\"><span class=\"toc-item-num\">1.4&nbsp;&nbsp;</span>Second example</a></div><div class=\"lev2 toc-item\"><a href=\"#Other-examples\" data-toc-modified-id=\"Other-examples-15\"><span class=\"toc-item-num\">1.5&nbsp;&nbsp;</span>Other examples</a></div><div class=\"lev3 toc-item\"><a href=\"#The-odd-predicate\" data-toc-modified-id=\"The-odd-predicate-151\"><span class=\"toc-item-num\">1.5.1&nbsp;&nbsp;</span>The <code>odd</code> predicate</a></div><div class=\"lev3 toc-item\"><a href=\"#Some-family-history\" data-toc-modified-id=\"Some-family-history-152\"><span class=\"toc-item-num\">1.5.2&nbsp;&nbsp;</span>Some family history</a></div><div class=\"lev2 toc-item\"><a href=\"#Conclusion\" data-toc-modified-id=\"Conclusion-16\"><span class=\"toc-item-num\">1.6&nbsp;&nbsp;</span>Conclusion</a></div>"
   ]
  },
  {
   "cell_type": "markdown",
   "metadata": {},
   "source": [
    "# Example of building, and using [Tiny-Prolog-in-OCaml](https://github.com/Naereen/Tiny-Prolog-in-OCaml/)"
   ]
  },
  {
   "cell_type": "markdown",
   "metadata": {},
   "source": [
    "- For more details, please refer to the [GitHub project, Tiny-Prolog-in-OCaml](https://github.com/Naereen/Tiny-Prolog-in-OCaml/)."
   ]
  },
  {
   "cell_type": "code",
   "execution_count": 4,
   "metadata": {},
   "outputs": [
    {
     "name": "stdout",
     "output_type": "stream",
     "text": [
      "GNU bash, version 4.4.12(1)-release (x86_64-pc-linux-gnu)\n",
      "Copyright (C) 2016 Free Software Foundation, Inc.\n",
      "License GPLv3+: GNU GPL version 3 or later <http://gnu.org/licenses/gpl.html>\n",
      "\n",
      "This is free software; you are free to change and redistribute it.\n",
      "There is NO WARRANTY, to the extent permitted by law.\n"
     ]
    }
   ],
   "source": [
    "LANG=en\n",
    "bash --version"
   ]
  },
  {
   "cell_type": "markdown",
   "metadata": {},
   "source": [
    "---\n",
    "## Building `prolog`"
   ]
  },
  {
   "cell_type": "code",
   "execution_count": 10,
   "metadata": {},
   "outputs": [],
   "source": [
    "# cd ~/publis/Tiny-Prolog-in-OCaml.git/"
   ]
  },
  {
   "cell_type": "code",
   "execution_count": 8,
   "metadata": {},
   "outputs": [
    {
     "name": "stdout",
     "output_type": "stream",
     "text": [
      "\u001b[0m\u001b[38;5;155mMakefile\u001b[0m  \u001b[38;5;184mREADME.md\u001b[0m  \u001b[0mlib.ml\u001b[0m  \u001b[38;5;208;1mprolog\u001b[0m*  \u001b[0mprolog.ml\u001b[0m  \u001b[0mresolution.ml\u001b[0m\n"
     ]
    }
   ],
   "source": [
    "ls prolog/"
   ]
  },
  {
   "cell_type": "code",
   "execution_count": 9,
   "metadata": {},
   "outputs": [
    {
     "name": "stdout",
     "output_type": "stream",
     "text": [
      "Vous \u001b[01;33mquittez\u001b[01;37m le dossier \u001b[01;34m'/home/lilian/publis/Tiny-Prolog-in-OCaml.git'\u001b[01;37m.\n",
      "\tDirection ==> \u001b[01;32mprolog/\u001b[01;37m\n"
     ]
    }
   ],
   "source": [
    "cd prolog/"
   ]
  },
  {
   "cell_type": "markdown",
   "metadata": {},
   "source": [
    "Let's build `prolog`, it's really easy:"
   ]
  },
  {
   "cell_type": "code",
   "execution_count": 11,
   "metadata": {},
   "outputs": [
    {
     "name": "stdout",
     "output_type": "stream",
     "text": [
      "rm -f *.cm[iox] *~ *.annot *.o\n",
      "ocamlc -pp camlp4o -c lib.ml\n",
      "\u001b[0;39;49mocamlc on \u001b[4m\u001b[01;30m-pp camlp4o -c lib.ml\u001b[0;39;49m\n",
      "ocamlc lib.cmo -c resolution.ml\n",
      "\u001b[0;39;49mocamlc on \u001b[4m\u001b[01;30mlib.cmo -c resolution.ml\u001b[0;39;49m\n",
      "\u001b[01;35m\u001b[KFile\u001b[m\u001b[K \u001b[02;34m\u001b[K\"resolution.ml\"\u001b[m\u001b[K, \u001b[05;01;31m\u001b[Kline 104\u001b[m\u001b[K, \u001b[01;31m\u001b[Kcharacters 12-17:\u001b[m\u001b[K\n",
      "\u001b[05;01;33m\u001b[KWarning 52: Code should not depend on the actual values of\u001b[m\u001b[K\n",
      "this constructor's arguments. They are only for information\n",
      "and may change in future versions. (See manual section 8.5)\n",
      "ocamlc -o prolog lib.cmo resolution.cmo prolog.ml\n",
      "\u001b[0;39;49mocamlc on \u001b[4m\u001b[01;30m-o prolog lib.cmo resolution.cmo prolog.ml\u001b[0;39;49m\n"
     ]
    }
   ],
   "source": [
    "/usr/bin/make clean\n",
    "/usr/bin/make"
   ]
  },
  {
   "cell_type": "markdown",
   "metadata": {},
   "source": [
    "The binary `prolog` that was just generated is an OCaml binary.\n",
    "Ii is not native, but we don't care. If you want a native binary, just do this:"
   ]
  },
  {
   "cell_type": "code",
   "execution_count": 12,
   "metadata": {},
   "outputs": [
    {
     "name": "stdout",
     "output_type": "stream",
     "text": [
      "ocamlopt -pp camlp4o -c lib.ml\n",
      "\u001b[0;39;49mocamlopt on \u001b[4m\u001b[01;30m-pp camlp4o -c lib.ml\u001b[0;39;49m\n",
      "ocamlopt lib.cmx -c resolution.ml\n",
      "\u001b[0;39;49mocamlopt on \u001b[4m\u001b[01;30mlib.cmx -c resolution.ml\u001b[0;39;49m\n",
      "\u001b[01;35m\u001b[KFile\u001b[m\u001b[K \u001b[02;34m\u001b[K\"resolution.ml\"\u001b[m\u001b[K, \u001b[05;01;31m\u001b[Kline 104\u001b[m\u001b[K, \u001b[01;31m\u001b[Kcharacters 12-17:\u001b[m\u001b[K\n",
      "\u001b[05;01;33m\u001b[KWarning 52: Code should not depend on the actual values of\u001b[m\u001b[K\n",
      "this constructor's arguments. They are only for information\n",
      "and may change in future versions. (See manual section 8.5)\n",
      "ocamlopt -o prolog.opt lib.cmx resolution.cmx prolog.ml\n",
      "\u001b[0;39;49mocamlopt on \u001b[4m\u001b[01;30m-o prolog.opt lib.cmx resolution.cmx prolog.ml\u001b[0;39;49m\n"
     ]
    }
   ],
   "source": [
    "/usr/bin/make prolog.opt"
   ]
  },
  {
   "cell_type": "code",
   "execution_count": 15,
   "metadata": {},
   "outputs": [
    {
     "name": "stdout",
     "output_type": "stream",
     "text": [
      "Vous \u001b[01;33mquittez\u001b[01;37m le dossier \u001b[01;34m'/home/lilian/publis'\u001b[01;37m.\n",
      "\tDirection ==> \u001b[01;32mTiny-Prolog-in-OCaml.git\u001b[01;37m\n",
      "\u001b[0m\u001b[38;5;208;1mprolog/prolog\u001b[0m*  \u001b[38;5;208;1mprolog/prolog.opt\u001b[0m*\n",
      "prolog/prolog:     a /home/lilian/.opam/4.04.2/bin/ocamlrun script executable (binary data)\n",
      "prolog/prolog.opt: ELF 64-bit LSB shared object, x86-64, version 1 (SYSV), dynamically linked, interpreter /lib64/ld-linux-x86-64.so.2, for GNU/Linux 3.2.0, BuildID[sha1]=37d475d077169be2f4b7145c2adc52cf77dfbf61, with debug_info, not stripped\n"
     ]
    }
   ],
   "source": [
    "cd ..\n",
    "ls prolog/prolog prolog/prolog.opt\n",
    "file prolog/prolog prolog/prolog.opt"
   ]
  },
  {
   "cell_type": "markdown",
   "metadata": {},
   "source": [
    "## Examples\n",
    "\n",
    "There is half a dozen of examples:"
   ]
  },
  {
   "cell_type": "code",
   "execution_count": 18,
   "metadata": {},
   "outputs": [
    {
     "name": "stdout",
     "output_type": "stream",
     "text": [
      "-rw-r--r-- 1 lilian lilian 358 Aug 28  2017 \u001b[0m\u001b[38;5;208mexamples/family_solution.pl\u001b[0m\n",
      "-rw-r--r-- 1 lilian lilian 546 Mar 19 16:40 \u001b[38;5;208mexamples/domino.pl\u001b[0m\n",
      "-rw-rw-r-- 1 lilian lilian 109 Mar 19 16:51 \u001b[38;5;208mexamples/tomandjerry.pl\u001b[0m\n",
      "-rw-rw-r-- 1 lilian lilian 387 Mar 21 16:17 \u001b[38;5;208mexamples/family.pl\u001b[0m\n",
      "-rw-r--r-- 1 lilian lilian  36 Mar 23 10:11 \u001b[38;5;208mexamples/even.pl\u001b[0m\n",
      "-rw-r--r-- 1 lilian lilian  36 Mar 23 10:11 \u001b[38;5;208mexamples/odd.pl\u001b[0m\n",
      "-rw-r--r-- 1 lilian lilian 228 Mar 23 10:13 \u001b[38;5;208mexamples/bunny.pl\u001b[0m\n",
      "-rw-r--r-- 1 lilian lilian 691 Mar 23 10:19 \u001b[38;5;208mexamples/natural_integer_arithmetics.pl\u001b[0m\n",
      "-rw-rw-r-- 1 lilian lilian 349 Mar 23 10:37 \u001b[38;5;208mexamples/natural_integer_arithmetics_nocomment.pl\u001b[0m\n"
     ]
    }
   ],
   "source": [
    "ls -larth examples/*.pl"
   ]
  },
  {
   "cell_type": "markdown",
   "metadata": {},
   "source": [
    "For instance, a tiny one is the following:"
   ]
  },
  {
   "cell_type": "code",
   "execution_count": 22,
   "metadata": {},
   "outputs": [
    {
     "name": "stdout",
     "output_type": "stream",
     "text": [
      "Vous \u001b[01;33mquittez\u001b[01;37m le dossier \u001b[01;34m'/home/lilian/publis/Tiny-Prolog-in-OCaml.git'\u001b[01;37m.\n",
      "\tDirection ==> \u001b[01;32mexamples\u001b[01;37m\n"
     ]
    }
   ],
   "source": [
    "cd examples"
   ]
  },
  {
   "cell_type": "code",
   "execution_count": 23,
   "metadata": {},
   "outputs": [
    {
     "name": "stdout",
     "output_type": "stream",
     "text": [
      "odd(s(o)).\n",
      "odd(s(s(X))) <-- odd(X).\n"
     ]
    }
   ],
   "source": [
    "cat odd.pl"
   ]
  },
  {
   "cell_type": "markdown",
   "metadata": {},
   "source": [
    "## First example\n",
    "\n",
    "`even.pl` define the even integers."
   ]
  },
  {
   "cell_type": "markdown",
   "metadata": {},
   "source": [
    "The `prolog` binary accepts a request as its last argument:"
   ]
  },
  {
   "cell_type": "code",
   "execution_count": 29,
   "metadata": {},
   "outputs": [
    {
     "name": "stdout",
     "output_type": "stream",
     "text": [
      "?- even(o).\n",
      "  { }\n"
     ]
    }
   ],
   "source": [
    "../prolog/prolog even.pl \"even(o).\"  # an empty valuation: it's true!"
   ]
  },
  {
   "cell_type": "code",
   "execution_count": 27,
   "metadata": {},
   "outputs": [
    {
     "name": "stdout",
     "output_type": "stream",
     "text": [
      "?- even(s(o)).\n"
     ]
    }
   ],
   "source": [
    "../prolog/prolog even.pl \"even(s(o)).\"  # aucune théorie : c'est false !"
   ]
  },
  {
   "cell_type": "code",
   "execution_count": 28,
   "metadata": {},
   "outputs": [
    {
     "name": "stdout",
     "output_type": "stream",
     "text": [
      "?- even(s(s(o))).\n",
      "  { }\n"
     ]
    }
   ],
   "source": [
    "../prolog/prolog even.pl \"even(s(s(o))).\"  # une théorie vide : c'est true !"
   ]
  },
  {
   "cell_type": "markdown",
   "metadata": {},
   "source": [
    "And `prolog` can also find all the even integers! It will only display a few (15), but it could *find them all*."
   ]
  },
  {
   "cell_type": "code",
   "execution_count": 28,
   "metadata": {},
   "outputs": [
    {
     "name": "stdout",
     "output_type": "stream",
     "text": [
      "?- even(s(s(o))).\n",
      "  { }\n"
     ]
    }
   ],
   "source": [
    "../prolog/prolog even.pl \"even(X).\"  # it will find 15 e"
   ]
  },
  {
   "cell_type": "markdown",
   "metadata": {},
   "source": [
    "Vous pouvez expérimenter dans votre terminal, en faisant simplement `../prolog/prolog pair.pl` and en tapant les requêtes.\n",
    "Je recommande l'utilisation de [rlwrap](https://github.com/hanslub42/rlwrap) ou [ledit](https://opam.ocaml.org/packages/ledit/) pour faciliter l'édition (mais je peux pas montrer ça dans un notebook)."
   ]
  },
  {
   "cell_type": "markdown",
   "metadata": {},
   "source": [
    "## Second example"
   ]
  },
  {
   "cell_type": "code",
   "execution_count": 72,
   "metadata": {},
   "outputs": [
    {
     "name": "stdout",
     "output_type": "stream",
     "text": [
      "?- lowerEq(s(s(o)), s(s(s(o)))).\n",
      "  { }\n"
     ]
    }
   ],
   "source": [
    "../prolog/prolog natural_integer_arithmetics.pl \"lowerEq(s(s(o)), s(s(s(o)))).\"  # 2 <= 3 ? yes"
   ]
  },
  {
   "cell_type": "code",
   "execution_count": 73,
   "metadata": {},
   "outputs": [
    {
     "name": "stdout",
     "output_type": "stream",
     "text": [
      "?- lowerEq(s(s(s(s(o)))), s(s(s(o)))).\n"
     ]
    }
   ],
   "source": [
    "../prolog/prolog natural_integer_arithmetics.pl \"lowerEq(s(s(s(s(o)))), s(s(s(o)))).\"  # 4 <= 3 ? no"
   ]
  },
  {
   "cell_type": "code",
   "execution_count": 81,
   "metadata": {},
   "outputs": [
    {
     "name": "stdout",
     "output_type": "stream",
     "text": [
      "?- sum(o,s(o),s(o)).\n",
      "  { }\n"
     ]
    }
   ],
   "source": [
    "../prolog/prolog natural_integer_arithmetics.pl \"sum(o,s(o),s(o)).\"  # 0+1 = 1 ? yes"
   ]
  },
  {
   "cell_type": "code",
   "execution_count": 79,
   "metadata": {},
   "outputs": [
    {
     "name": "stdout",
     "output_type": "stream",
     "text": [
      "?- sum(s(o),s(o),s(s(o))).\n",
      "  { }\n"
     ]
    }
   ],
   "source": [
    "../prolog/prolog natural_integer_arithmetics.pl \"sum(s(o),s(o),s(s(o))).\"  # 1+1 = 2 ? yes"
   ]
  },
  {
   "cell_type": "code",
   "execution_count": 80,
   "metadata": {},
   "outputs": [
    {
     "name": "stdout",
     "output_type": "stream",
     "text": [
      "?- sum(s(o),o,s(s(o))).\n"
     ]
    }
   ],
   "source": [
    "../prolog/prolog natural_integer_arithmetics.pl \"sum(s(o),o,s(s(o))).\"  # 1+1 = 1 ? no"
   ]
  },
  {
   "cell_type": "markdown",
   "metadata": {},
   "source": [
    "---\n",
    "## Other examples"
   ]
  },
  {
   "cell_type": "markdown",
   "metadata": {},
   "source": [
    "### The `odd` predicate"
   ]
  },
  {
   "cell_type": "code",
   "execution_count": 82,
   "metadata": {},
   "outputs": [
    {
     "name": "stdout",
     "output_type": "stream",
     "text": [
      "even(o).\n",
      "even(s(s(X))) <-- even(X).\n"
     ]
    }
   ],
   "source": [
    "cat even.pl"
   ]
  },
  {
   "cell_type": "code",
   "execution_count": 83,
   "metadata": {},
   "outputs": [],
   "source": [
    "[ -f odd.pl ] && rm -vf odd.pl\n",
    "echo \"odd(s(o)).\" > odd.pl\n",
    "echo \"odd(s(s(X))) <-- odd(X).\" >> odd.pl"
   ]
  },
  {
   "cell_type": "code",
   "execution_count": 84,
   "metadata": {},
   "outputs": [
    {
     "name": "stdout",
     "output_type": "stream",
     "text": [
      "?- odd(o).\n",
      "?- odd(s(o)).\n",
      "  { }\n",
      "?- odd(s(s(o))).\n"
     ]
    }
   ],
   "source": [
    "../prolog/prolog odd.pl \"odd(o).\"  # false\n",
    "../prolog/prolog odd.pl \"odd(s(o)).\"  # true\n",
    "../prolog/prolog odd.pl \"odd(s(s(o))).\"  # false"
   ]
  },
  {
   "cell_type": "markdown",
   "metadata": {},
   "source": [
    "### Some family history\n",
    "\n",
    "Note: this example does *NOT* use anyone from my family. The names are purely imaginary.\n",
    "The only thing we need to define at first is a predicate `parent(X, Y)` that defines the fact that X is a father/mother/parent of Y. It is a direct down link in a family tree."
   ]
  },
  {
   "cell_type": "code",
   "execution_count": 172,
   "metadata": {},
   "outputs": [
    {
     "name": "stdout",
     "output_type": "stream",
     "text": [
      "'aSmallFamily.pl' removed\n"
     ]
    }
   ],
   "source": [
    "rm -vf aSmallFamily.pl"
   ]
  },
  {
   "cell_type": "code",
   "execution_count": 173,
   "metadata": {},
   "outputs": [],
   "source": [
    "echo \"parent(cyrill, renaud).\" >> aSmallFamily.pl\n",
    "echo \"parent(cyrill, claire).\" >> aSmallFamily.pl\n",
    "echo \"parent(renaud, clovis).\" >> aSmallFamily.pl\n",
    "echo \"parent(valentin, olivier).\" >> aSmallFamily.pl\n",
    "echo \"parent(claire, olivier).\" >> aSmallFamily.pl\n",
    "echo \"parent(renaud, claudia).\" >> aSmallFamily.pl\n",
    "echo \"parent(claire, gaelle).\" >> aSmallFamily.pl"
   ]
  },
  {
   "cell_type": "code",
   "execution_count": 174,
   "metadata": {},
   "outputs": [
    {
     "name": "stdout",
     "output_type": "stream",
     "text": [
      "?- parent(cyrill, renaud).\n",
      "  { }\n",
      "?- parent(claire, renaud).\n"
     ]
    }
   ],
   "source": [
    "../prolog/prolog aSmallFamily.pl \"parent(cyrill, renaud).\"  # true\n",
    "../prolog/prolog aSmallFamily.pl \"parent(claire, renaud).\"  # false"
   ]
  },
  {
   "cell_type": "code",
   "execution_count": 175,
   "metadata": {},
   "outputs": [
    {
     "name": "stdout",
     "output_type": "stream",
     "text": [
      "?- parent(X, renaud).\n",
      "  { X = cyrill }\n",
      "?- parent(X, gaelle).\n",
      "  { X = claire }\n",
      "?- parent(X, olivier).\n",
      "  { X = valentin }\n",
      "  { X = claire }\n",
      "?- parent(renaud, X).\n",
      "  { X = clovis }\n",
      "  { X = claudia }\n",
      "?- parent(gaelle, X).\n",
      "?- parent(olivier, X).\n"
     ]
    }
   ],
   "source": [
    "../prolog/prolog aSmallFamily.pl \"parent(X, renaud).\"  # cyrill\n",
    "../prolog/prolog aSmallFamily.pl \"parent(X, gaelle).\"  # claire\n",
    "../prolog/prolog aSmallFamily.pl \"parent(X, olivier).\"  # claire, valentin\n",
    "\n",
    "../prolog/prolog aSmallFamily.pl \"parent(renaud, X).\"  # clovis, claudia\n",
    "../prolog/prolog aSmallFamily.pl \"parent(gaelle, X).\"  # {}\n",
    "../prolog/prolog aSmallFamily.pl \"parent(olivier, X).\"  # {}"
   ]
  },
  {
   "cell_type": "markdown",
   "metadata": {},
   "source": [
    "Brother and sisters are defined by having a common parent, and cousins are defined by having a common *grand-parent*:"
   ]
  },
  {
   "cell_type": "code",
   "execution_count": 176,
   "metadata": {},
   "outputs": [],
   "source": [
    "echo \"brothersister(X,Y) <-- parent(Z,X), parent(Z,Y).\" >> aSmallFamily.pl\n",
    "echo \"grandparent(X,Y) <-- parent(X,Z), parent(Z,Y).\" >> aSmallFamily.pl\n",
    "echo \"cousin(X,Y) <-- grandparent(Z,X), grandparent(Z,Y).\" >> aSmallFamily.pl"
   ]
  },
  {
   "cell_type": "code",
   "execution_count": 177,
   "metadata": {
    "scrolled": true
   },
   "outputs": [
    {
     "name": "stdout",
     "output_type": "stream",
     "text": [
      "?- brothersister(cyrill, claire).\n",
      "?- brothersister(renaud, claire).\n",
      "  { }\n",
      "?- brothersister(claire, claire).\n",
      "  { }\n",
      "?- grandparent(X,olivier).\n",
      "  { X = cyrill }\n",
      "?- grandparent(X,gaelle).\n",
      "  { X = cyrill }\n"
     ]
    }
   ],
   "source": [
    "../prolog/prolog aSmallFamily.pl \"brothersister(cyrill, claire).\"  # false\n",
    "../prolog/prolog aSmallFamily.pl \"brothersister(renaud, claire).\"  # true\n",
    "../prolog/prolog aSmallFamily.pl \"brothersister(claire, claire).\"  # true\n",
    "\n",
    "../prolog/prolog aSmallFamily.pl \"grandparent(X,olivier).\"  # cyrill\n",
    "../prolog/prolog aSmallFamily.pl \"grandparent(X,gaelle).\"  # cyrill"
   ]
  },
  {
   "cell_type": "markdown",
   "metadata": {},
   "source": [
    "I will let you find a correct recursive definition of this predicate `ancester`."
   ]
  },
  {
   "cell_type": "code",
   "execution_count": 178,
   "metadata": {},
   "outputs": [],
   "source": [
    "#echo \"ancester(X,Y) <-- ancester(X,Z), grandparent(Z,Y).\" >> aSmallFamily.pl\n",
    "echo \"ancester(X,Y) <-- parent(X,Y).\" >> aSmallFamily.pl\n",
    "echo \"ancester(X,Y) <-- grandparent(X,Y).\" >> aSmallFamily.pl\n",
    "#echo \"ancester(X,X).\" >> aSmallFamily.pl"
   ]
  },
  {
   "cell_type": "markdown",
   "metadata": {},
   "source": [
    "On peut vérifier tous les axiomes and règles qu'on a ajouté :"
   ]
  },
  {
   "cell_type": "code",
   "execution_count": 179,
   "metadata": {},
   "outputs": [
    {
     "name": "stdout",
     "output_type": "stream",
     "text": [
      "parent(cyrill, renaud).\n",
      "parent(cyrill, claire).\n",
      "parent(renaud, clovis).\n",
      "parent(valentin, olivier).\n",
      "parent(claire, olivier).\n",
      "parent(renaud, claudia).\n",
      "parent(claire, gaelle).\n",
      "brothersister(X,Y) <-- parent(Z,X), parent(Z,Y).\n",
      "grandparent(X,Y) <-- parent(X,Z), parent(Z,Y).\n",
      "cousin(X,Y) <-- grandparent(Z,X), grandparent(Z,Y).\n",
      "ancester(X,Y) <-- parent(X,Y).\n",
      "ancester(X,Y) <-- grandparent(X,Y).\n"
     ]
    }
   ],
   "source": [
    "cat aSmallFamily.pl"
   ]
  },
  {
   "cell_type": "markdown",
   "metadata": {},
   "source": [
    "Questions:"
   ]
  },
  {
   "cell_type": "markdown",
   "metadata": {},
   "source": [
    "- Olivier's ancesters are Valentin, Claire and Cyrill:"
   ]
  },
  {
   "cell_type": "code",
   "execution_count": 180,
   "metadata": {},
   "outputs": [
    {
     "name": "stdout",
     "output_type": "stream",
     "text": [
      "?- parent(X,olivier).\n",
      "  { X = valentin }\n",
      "  { X = claire }\n",
      "?- grandparent(X,olivier).\n",
      "  { X = cyrill }\n"
     ]
    }
   ],
   "source": [
    "../prolog/prolog aSmallFamily.pl \"parent(X,olivier).\"\n",
    "../prolog/prolog aSmallFamily.pl \"grandparent(X,olivier).\"\n"
   ]
  },
  {
   "cell_type": "code",
   "execution_count": 181,
   "metadata": {},
   "outputs": [
    {
     "name": "stdout",
     "output_type": "stream",
     "text": [
      "?- ancester(X,olivier).\n",
      "  { X = valentin }\n",
      "  { X = claire }\n",
      "  { X = cyrill }\n"
     ]
    }
   ],
   "source": [
    "../prolog/prolog aSmallFamily.pl \"ancester(X,olivier).\""
   ]
  },
  {
   "cell_type": "markdown",
   "metadata": {},
   "source": [
    "- The common ancester of Olivier and Renaud is Cyrill:"
   ]
  },
  {
   "cell_type": "code",
   "execution_count": 182,
   "metadata": {},
   "outputs": [
    {
     "name": "stdout",
     "output_type": "stream",
     "text": [
      "?- ancester(olivier,X),ancester(renaud,X).\n"
     ]
    }
   ],
   "source": [
    "../prolog/prolog aSmallFamily.pl \"ancester(olivier,X),ancester(renaud,X).\""
   ]
  },
  {
   "cell_type": "code",
   "execution_count": 183,
   "metadata": {},
   "outputs": [
    {
     "name": "stdout",
     "output_type": "stream",
     "text": [
      "?- ancester(X,olivier),ancester(X,renaud).\n",
      "  { X = cyrill }\n"
     ]
    }
   ],
   "source": [
    "../prolog/prolog aSmallFamily.pl \"ancester(X,olivier),ancester(X,renaud).\""
   ]
  },
  {
   "cell_type": "markdown",
   "metadata": {},
   "source": [
    "- Claudia and Gaëlle are not sister but they are cousin:"
   ]
  },
  {
   "cell_type": "code",
   "execution_count": 149,
   "metadata": {},
   "outputs": [
    {
     "name": "stdout",
     "output_type": "stream",
     "text": [
      "?- brothersister(gaelle,claudia).\n",
      "?- cousin(gaelle,claudia).\n",
      "  { }\n"
     ]
    }
   ],
   "source": [
    "../prolog/prolog aSmallFamily.pl \"brothersister(gaelle,claudia).\"  # false\n",
    "../prolog/prolog aSmallFamily.pl \"cousin(gaelle,claudia).\"  # true"
   ]
  },
  {
   "cell_type": "markdown",
   "metadata": {},
   "source": [
    "- Claudia is Clovis's sister, and Olivier and Gaëlle are her cousins:"
   ]
  },
  {
   "cell_type": "code",
   "execution_count": 147,
   "metadata": {},
   "outputs": [
    {
     "name": "stdout",
     "output_type": "stream",
     "text": [
      "?- brothersister(X,clovis).\n",
      "  { X = clovis }\n",
      "  { X = claudia }\n",
      "?- cousin(X,clovis).\n",
      "  { X = clovis }\n",
      "  { X = claudia }\n",
      "  { X = olivier }\n",
      "  { X = gaelle }\n"
     ]
    }
   ],
   "source": [
    "../prolog/prolog aSmallFamily.pl \"brothersister(X,clovis).\"\n",
    "../prolog/prolog aSmallFamily.pl \"cousin(X,clovis).\""
   ]
  },
  {
   "cell_type": "markdown",
   "metadata": {},
   "source": [
    "----\n",
    "## Conclusion\n",
    "\n",
    "That's it for today, *folks*!\n",
    "\n",
    "> Have a look [to this other repository](https://github.com/Naereen/notebooks/) for more notebooks I wrote."
   ]
  }
 ],
 "metadata": {
  "kernelspec": {
   "display_name": "Bash",
   "language": "bash",
   "name": "bash"
  },
  "language_info": {
   "codemirror_mode": "shell",
   "file_extension": ".sh",
   "mimetype": "text/x-sh",
   "name": "bash"
  },
  "toc": {
   "colors": {
    "hover_highlight": "#DAA520",
    "running_highlight": "#FF0000",
    "selected_highlight": "#FFD700"
   },
   "moveMenuLeft": true,
   "nav_menu": {
    "height": "511px",
    "width": "251px"
   },
   "navigate_menu": true,
   "number_sections": true,
   "sideBar": true,
   "threshold": 4,
   "toc_cell": true,
   "toc_position": {
    "height": "578px",
    "left": "0px",
    "right": "1288px",
    "top": "149px",
    "width": "152px"
   },
   "toc_section_display": "block",
   "toc_window_display": true
  },
  "varInspector": {
   "cols": {
    "lenName": 16,
    "lenType": 16,
    "lenVar": 40
   },
   "kernels_config": {
    "python": {
     "delete_cmd_postfix": "",
     "delete_cmd_prefix": "del ",
     "library": "var_list.py",
     "varRefreshCmd": "print(var_dic_list())"
    },
    "r": {
     "delete_cmd_postfix": ") ",
     "delete_cmd_prefix": "rm(",
     "library": "var_list.r",
     "varRefreshCmd": "cat(var_dic_list()) "
    }
   },
   "types_to_exclude": [
    "module",
    "function",
    "builtin_function_or_method",
    "instance",
    "_Feature"
   ],
   "window_display": false
  }
 },
 "nbformat": 4,
 "nbformat_minor": 2
}
